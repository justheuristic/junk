{
 "cells": [
  {
   "cell_type": "code",
   "execution_count": 2,
   "id": "43871e67",
   "metadata": {},
   "outputs": [
    {
     "name": "stdout",
     "output_type": "stream",
     "text": [
      "env: CUDA_VISIBLE_DEVICES=0\n",
      "env: TRANSFORMERS_CACHE=/mnt/LLM/hub\n",
      "env: OMP_NUM_THREADS=16\n",
      "Estimated bits / param 2.0390625\n"
     ]
    }
   ],
   "source": [
    "%env CUDA_VISIBLE_DEVICES=0\n",
    "%env TRANSFORMERS_CACHE=/mnt/LLM/hub\n",
    "%env OMP_NUM_THREADS=16\n",
    "\n",
    "import os\n",
    "import sys\n",
    "sys.path.insert(0, '..')\n",
    "\n",
    "import time\n",
    "import random\n",
    "from tqdm.auto import trange\n",
    "import ipynbname  # pip install ipynbname\n",
    "\n",
    "import torch\n",
    "import torch.nn as nn\n",
    "import torch.nn.functional as F\n",
    "import transformers\n",
    "\n",
    "from src.aq import QuantizedWeight, _reconstruct_weight  # see adjacent file (aq.py)\n",
    "from src.utils import calc_avg_bits, get_mean_nbits_by_codebook  # see adjacent file (aq.py)\n",
    "\n",
    "torch.set_num_threads(16)\n",
    "torch.backends.cudnn.allow_tf32 = False\n",
    "torch.backends.cuda.matmul.allow_tf32 = False\n",
    "device = torch.device('cuda' if torch.cuda.is_available() else 'cpu')\n",
    "\n",
    "input_loading_dir = '/extra_disk_1/vahe1994/BRRR/layer10.self_attn.q_proj.input_activation.pt'\n",
    "num_codebooks = 1\n",
    "nbits_per_codebook = 14\n",
    "out_group_size = 1\n",
    "in_group_size = 8\n",
    "batch_size = 16384\n",
    "beam_size = 1\n",
    "beam_search_epochs = 100\n",
    "sparsity_regularizer = 0\n",
    "print_frequency = 10\n",
    "scale_nbits = 2    # 0 means no scales, 16 means no compression;\n",
    "\n",
    "\n",
    "#for each group we store num_codebooks * nbits_per_codebook - bits \n",
    "# for W matrix  we store out_features*(in_features // group_size) * num_codebooks * nbits_per_codebook - bits \n",
    "# 1 codebook store codebook_size*group_size*16 - bit \n",
    "# all codebooks store num_codebooks* codebook_size*group_size*16 -bits\n",
    "in_features, out_features  = 8192, 8192\n",
    "estimated_bits_per_param = calc_avg_bits(\n",
    "    num_codebooks, out_group_size, in_group_size, nbits_per_codebook, in_features, out_features, scale_nbits)\n",
    "print(\"Estimated bits / param\", estimated_bits_per_param)"
   ]
  },
  {
   "cell_type": "code",
   "execution_count": 3,
   "id": "d7e6156a",
   "metadata": {},
   "outputs": [
    {
     "name": "stderr",
     "output_type": "stream",
     "text": [
      "\u001b[34m\u001b[1mwandb\u001b[0m: Currently logged in as: \u001b[33mjustheuristic\u001b[0m (\u001b[33mrock-and-roll\u001b[0m). Use \u001b[1m`wandb login --relogin`\u001b[0m to force relogin\n"
     ]
    },
    {
     "data": {
      "text/html": [
       "wandb version 0.16.1 is available!  To upgrade, please run:\n",
       " $ pip install wandb --upgrade"
      ],
      "text/plain": [
       "<IPython.core.display.HTML object>"
      ]
     },
     "metadata": {},
     "output_type": "display_data"
    },
    {
     "data": {
      "text/html": [
       "Tracking run with wandb version 0.16.0"
      ],
      "text/plain": [
       "<IPython.core.display.HTML object>"
      ]
     },
     "metadata": {},
     "output_type": "display_data"
    },
    {
     "data": {
      "text/html": [
       "Run data is saved locally in <code>/home/jheuristic/GPTAQ_scales/Notebooks/wandb/run-20231206_043452-7yj5she6</code>"
      ],
      "text/plain": [
       "<IPython.core.display.HTML object>"
      ]
     },
     "metadata": {},
     "output_type": "display_data"
    },
    {
     "data": {
      "text/html": [
       "Syncing run <strong><a href='https://wandb.ai/rock-and-roll/AddQuantization/runs/7yj5she6' target=\"_blank\">aq_simple_AQ_num_codebooks=1_out_group_size=1_in_group_size=8_nbits_per_codebook=14_beam_search_epochs=100</a></strong> to <a href='https://wandb.ai/rock-and-roll/AddQuantization' target=\"_blank\">Weights & Biases</a> (<a href='https://wandb.me/run' target=\"_blank\">docs</a>)<br/>"
      ],
      "text/plain": [
       "<IPython.core.display.HTML object>"
      ]
     },
     "metadata": {},
     "output_type": "display_data"
    },
    {
     "data": {
      "text/html": [
       " View project at <a href='https://wandb.ai/rock-and-roll/AddQuantization' target=\"_blank\">https://wandb.ai/rock-and-roll/AddQuantization</a>"
      ],
      "text/plain": [
       "<IPython.core.display.HTML object>"
      ]
     },
     "metadata": {},
     "output_type": "display_data"
    },
    {
     "data": {
      "text/html": [
       " View run at <a href='https://wandb.ai/rock-and-roll/AddQuantization/runs/7yj5she6' target=\"_blank\">https://wandb.ai/rock-and-roll/AddQuantization/runs/7yj5she6</a>"
      ],
      "text/plain": [
       "<IPython.core.display.HTML object>"
      ]
     },
     "metadata": {},
     "output_type": "display_data"
    },
    {
     "name": "stderr",
     "output_type": "stream",
     "text": [
      "\u001b[34m\u001b[1mwandb\u001b[0m: \u001b[33mWARNING\u001b[0m No relevant files were detected in the specified directory. No code will be logged to your run.\n"
     ]
    }
   ],
   "source": [
    "import wandb\n",
    "\n",
    "os.environ[\"WANDB_NOTEBOOK_NAME\"] = os.path.join(os.getcwd(), ipynbname.name() + \".ipynb\")\n",
    "\n",
    "# start a new wandb run to track this script\n",
    "run = wandb.init(\n",
    "    # set the wandb project where this run will be logged\n",
    "    dir=os.getcwd(),\n",
    "    project=\"AddQuantization\",\n",
    "    entity = \"rock-and-roll\",\n",
    "    save_code=True,\n",
    "    name = f\"{ipynbname.name()}_AQ_{num_codebooks=}_{out_group_size=}_{in_group_size=}_{nbits_per_codebook=}_{beam_search_epochs=}\",\n",
    "    settings=wandb.Settings(code_dir=\".\"),\n",
    "    # track hyperparameters and run metadata\n",
    "    config={\n",
    "    \"num_codebooks\" : num_codebooks,\n",
    "    \"out_group_size\": out_group_size,\n",
    "    \"in_group_size\": in_group_size,\n",
    "    \"group_size\" : out_group_size * in_group_size,\n",
    "    \"batch_size\" : batch_size,\n",
    "    \"beam_size\" : beam_size,\n",
    "    \"nbits_per_codebook\" : nbits_per_codebook,\n",
    "    \"Avg_bits\": estimated_bits_per_param,\n",
    "    \"beam_search_epochs\": beam_search_epochs,\n",
    "    \"sparsity_regularizer\": sparsity_regularizer,\n",
    "    \"scale_nvits\": scale_nbits,\n",
    "    }\n",
    ")\n",
    "run.log({\"Avg_bits\": estimated_bits_per_param})"
   ]
  },
  {
   "cell_type": "code",
   "execution_count": 4,
   "id": "dbf7e1f4",
   "metadata": {},
   "outputs": [
    {
     "data": {
      "application/vnd.jupyter.widget-view+json": {
       "model_id": "cdd87829ab1f4df5b36498d7e6454f8f",
       "version_major": 2,
       "version_minor": 0
      },
      "text/plain": [
       "Loading checkpoint shards:   0%|          | 0/15 [00:00<?, ?it/s]"
      ]
     },
     "metadata": {},
     "output_type": "display_data"
    }
   ],
   "source": [
    "model = transformers.AutoModelForCausalLM.from_pretrained(\n",
    "    \"meta-llama/Llama-2-70b-hf\", torch_dtype='auto', low_cpu_mem_usage=True)\n",
    "\n",
    "X = torch.load(input_loading_dir, map_location='cpu').float().flatten(0, -2)\n",
    "reference_weight = model.model.layers[10].self_attn.q_proj.weight.detach().to(device).float()\n",
    "\n",
    "XTX = torch.zeros(X.shape[-1], X.shape[-1], device=device, dtype=torch.float64)\n",
    "for i in range(0, len(X), batch_size):\n",
    "    x_batch = X[i: i + batch_size].cuda().double()\n",
    "    XTX.addmm_(x_batch.T, x_batch, alpha=1/len(X))\n",
    "    del x_batch\n",
    "XTX = XTX.float()\n",
    "del X"
   ]
  },
  {
   "cell_type": "code",
   "execution_count": null,
   "id": "7e8656f1",
   "metadata": {},
   "outputs": [
    {
     "name": "stderr",
     "output_type": "stream",
     "text": [
      "/home/jheuristic/GPTAQ_scales/Notebooks/../src/kmeans_1d.py:160: UserWarning: torch.searchsorted(): boundary tensor is non-contiguous, this will lower the performance due to extra data copy when converting non-contiguous tensor to contiguous, please use contiguous boundary tensor if possible. This message will only appear once per program. (Triggered internally at /opt/conda/conda-bld/pytorch_1695392022560/work/aten/src/ATen/native/BucketizationUtils.h:38.)\n",
      "  groupwise_cluster_indices = torch.searchsorted(border_indices[:, 1:], groupwise_ranks_1based, side='left')\n"
     ]
    },
    {
     "data": {
      "application/vnd.jupyter.widget-view+json": {
       "model_id": "d1a6fc37dba14b3a99e1cb180b679acb",
       "version_major": 2,
       "version_minor": 0
      },
      "text/plain": [
       "initializing with kmeans:   0%|          | 0/1 [00:00<?, ?it/s]"
      ]
     },
     "metadata": {},
     "output_type": "display_data"
    },
    {
     "name": "stderr",
     "output_type": "stream",
     "text": [
      "/home/jheuristic/GPTAQ_scales/Notebooks/../src/aq.py:480: UserWarning: index_reduce() is in beta and the API may change at any time. (Triggered internally at /opt/conda/conda-bld/pytorch_1695392022560/work/aten/src/ATen/native/cuda/Indexing.cu:1193.)\n",
      "  codebook_i, codes_i, reconstructed_weight_i = fit_kmeans(weight_residue, k=codebook_size, **kwargs)\n"
     ]
    },
    {
     "name": "stdout",
     "output_type": "stream",
     "text": [
      "loss=0.0258857615\t time_on_epoch 0 = 1.794874879065901\n",
      "loss=0.0214160136\t time_on_epoch 10 = 0.13309287303127348\n",
      "loss=0.0179490415\t time_on_epoch 20 = 0.13319369300734252\n",
      "loss=0.0152740230\t time_on_epoch 30 = 0.13324946200009435\n",
      "loss=0.0132520099\t time_on_epoch 40 = 0.1333391530206427\n",
      "loss=0.0117486446\t time_on_epoch 50 = 0.13315503299236298\n",
      "loss=0.0106320357\t time_on_epoch 60 = 0.13317235291469842\n",
      "loss=0.0097964607\t time_on_epoch 70 = 0.13332686305511743\n",
      "loss=0.0091640784\t time_on_epoch 80 = 0.13326736295130104\n",
      "loss=0.0086792293\t time_on_epoch 90 = 0.13343094300944358\n"
     ]
    },
    {
     "data": {
      "application/vnd.jupyter.widget-view+json": {
       "model_id": "e022740237f847ca8bba9af437b31900",
       "version_major": 2,
       "version_minor": 0
      },
      "text/plain": [
       "  0%|          | 0/1024 [00:00<?, ?it/s]"
      ]
     },
     "metadata": {},
     "output_type": "display_data"
    },
    {
     "name": "stdout",
     "output_type": "stream",
     "text": [
      "loss=0.0035189353\t time_on_epoch 100 = 0.1336318530375138\n",
      "loss=0.0035091678\t time_on_epoch 110 = 0.13316636299714446\n",
      "loss=0.0035043052\t time_on_epoch 120 = 0.1333161829970777\n",
      "loss=0.0035010309\t time_on_epoch 130 = 0.13334985298570246\n",
      "loss=0.0034985890\t time_on_epoch 140 = 0.1332549329381436\n",
      "loss=0.0034966450\t time_on_epoch 150 = 0.1332929430063814\n",
      "loss=0.0034950249\t time_on_epoch 160 = 0.13314009306486696\n",
      "loss=0.0034936290\t time_on_epoch 170 = 0.1331540320534259\n",
      "loss=0.0034923968\t time_on_epoch 180 = 0.13312971289269626\n",
      "loss=0.0034912889\t time_on_epoch 190 = 0.1332523429300636\n"
     ]
    },
    {
     "data": {
      "application/vnd.jupyter.widget-view+json": {
       "model_id": "f5d6959712904161a18bc2390b2cd1ff",
       "version_major": 2,
       "version_minor": 0
      },
      "text/plain": [
       "  0%|          | 0/1024 [00:00<?, ?it/s]"
      ]
     },
     "metadata": {},
     "output_type": "display_data"
    },
    {
     "name": "stdout",
     "output_type": "stream",
     "text": [
      "loss=0.0027500544\t time_on_epoch 200 = 0.1337201700080186\n",
      "loss=0.0027436652\t time_on_epoch 210 = 0.1331480590160936\n",
      "loss=0.0027403748\t time_on_epoch 220 = 0.1331907599233091\n",
      "loss=0.0027380148\t time_on_epoch 230 = 0.13311777007766068\n",
      "loss=0.0027361537\t time_on_epoch 240 = 0.1331331899855286\n",
      "loss=0.0027346007\t time_on_epoch 250 = 0.1332436390221119\n",
      "loss=0.0027332553\t time_on_epoch 260 = 0.13381329004187137\n",
      "loss=0.0027320593\t time_on_epoch 270 = 0.13322458998300135\n",
      "loss=0.0027309766\t time_on_epoch 280 = 0.13325519894715399\n",
      "loss=0.0027299832\t time_on_epoch 290 = 0.13342676998581737\n"
     ]
    },
    {
     "data": {
      "application/vnd.jupyter.widget-view+json": {
       "model_id": "8a602bed7542403f96e0a2df18fb1f09",
       "version_major": 2,
       "version_minor": 0
      },
      "text/plain": [
       "  0%|          | 0/1024 [00:00<?, ?it/s]"
      ]
     },
     "metadata": {},
     "output_type": "display_data"
    },
    {
     "name": "stdout",
     "output_type": "stream",
     "text": [
      "loss=0.0025152603\t time_on_epoch 300 = 0.1336500939214602\n",
      "loss=0.0025119187\t time_on_epoch 310 = 0.13334613398183137\n",
      "loss=0.0025101011\t time_on_epoch 320 = 0.13310248404741287\n",
      "loss=0.0025087444\t time_on_epoch 330 = 0.13309371401555836\n",
      "loss=0.0025076410\t time_on_epoch 340 = 0.13311722502112389\n",
      "loss=0.0025066980\t time_on_epoch 350 = 0.13310846395324916\n",
      "loss=0.0025058657\t time_on_epoch 360 = 0.13310975406784564\n",
      "loss=0.0025051146\t time_on_epoch 370 = 0.13321715500205755\n",
      "loss=0.0025044264\t time_on_epoch 380 = 0.13321204402018338\n",
      "loss=0.0025037887\t time_on_epoch 390 = 0.13316425494849682\n"
     ]
    },
    {
     "data": {
      "application/vnd.jupyter.widget-view+json": {
       "model_id": "89c803dc3d5945fa84d3dcef19bbd6ff",
       "version_major": 2,
       "version_minor": 0
      },
      "text/plain": [
       "  0%|          | 0/1024 [00:00<?, ?it/s]"
      ]
     },
     "metadata": {},
     "output_type": "display_data"
    },
    {
     "name": "stdout",
     "output_type": "stream",
     "text": [
      "loss=0.0024054532\t time_on_epoch 400 = 0.13364995794836432\n",
      "loss=0.0024032882\t time_on_epoch 410 = 0.13322594796773046\n",
      "loss=0.0024020441\t time_on_epoch 420 = 0.13320283708162606\n",
      "loss=0.0024010908\t time_on_epoch 430 = 0.1335150880040601\n",
      "loss=0.0024002998\t time_on_epoch 440 = 0.13342391804326326\n",
      "loss=0.0023996128\t time_on_epoch 450 = 0.13312365801539272\n",
      "loss=0.0023989984\t time_on_epoch 460 = 0.13316279801074415\n",
      "loss=0.0023984378\t time_on_epoch 470 = 0.13341390795540065\n",
      "loss=0.0023979193\t time_on_epoch 480 = 0.1331841079518199\n",
      "loss=0.0023974349\t time_on_epoch 490 = 0.13317982794251293\n"
     ]
    },
    {
     "data": {
      "application/vnd.jupyter.widget-view+json": {
       "model_id": "f084faa625f74024aae1e2e0a43ee794",
       "version_major": 2,
       "version_minor": 0
      },
      "text/plain": [
       "  0%|          | 0/1024 [00:00<?, ?it/s]"
      ]
     },
     "metadata": {},
     "output_type": "display_data"
    },
    {
     "name": "stdout",
     "output_type": "stream",
     "text": [
      "loss=0.0023415080\t time_on_epoch 500 = 0.13365037995390594\n",
      "loss=0.0023399954\t time_on_epoch 510 = 0.13321528991218656\n",
      "loss=0.0023390924\t time_on_epoch 520 = 0.13326122995931655\n",
      "loss=0.0023383842\t time_on_epoch 530 = 0.13333903101738542\n",
      "loss=0.0023377855\t time_on_epoch 540 = 0.1331257000565529\n",
      "loss=0.0023372576\t time_on_epoch 550 = 0.13321992999408394\n",
      "loss=0.0023367795\t time_on_epoch 560 = 0.1331358200404793\n",
      "loss=0.0023363389\t time_on_epoch 570 = 0.13315209094434977\n",
      "loss=0.0023359280\t time_on_epoch 580 = 0.1331702710594982\n",
      "loss=0.0023355413\t time_on_epoch 590 = 0.13321200106292963\n"
     ]
    },
    {
     "data": {
      "application/vnd.jupyter.widget-view+json": {
       "model_id": "e415c416a91e47a8b57620eceae023de",
       "version_major": 2,
       "version_minor": 0
      },
      "text/plain": [
       "  0%|          | 0/1024 [00:00<?, ?it/s]"
      ]
     },
     "metadata": {},
     "output_type": "display_data"
    },
    {
     "name": "stdout",
     "output_type": "stream",
     "text": [
      "loss=0.0023001399\t time_on_epoch 600 = 0.1335208520758897\n",
      "loss=0.0022990120\t time_on_epoch 610 = 0.13317271205596626\n",
      "loss=0.0022983210\t time_on_epoch 620 = 0.13321509200613946\n",
      "loss=0.0022977681\t time_on_epoch 630 = 0.13314453209750354\n",
      "loss=0.0022972933\t time_on_epoch 640 = 0.13319827197119594\n",
      "loss=0.0022968691\t time_on_epoch 650 = 0.13315201201476157\n",
      "loss=0.0022964810\t time_on_epoch 660 = 0.13329762301873416\n",
      "loss=0.0022961202\t time_on_epoch 670 = 0.13323536200914532\n",
      "loss=0.0022957811\t time_on_epoch 680 = 0.13341924210544676\n",
      "loss=0.0022954601\t time_on_epoch 690 = 0.13352238200604916\n"
     ]
    },
    {
     "data": {
      "application/vnd.jupyter.widget-view+json": {
       "model_id": "68729fd2071a47389acd0b882ff95eed",
       "version_major": 2,
       "version_minor": 0
      },
      "text/plain": [
       "  0%|          | 0/1024 [00:00<?, ?it/s]"
      ]
     },
     "metadata": {},
     "output_type": "display_data"
    },
    {
     "name": "stdout",
     "output_type": "stream",
     "text": [
      "loss=0.0022710219\t time_on_epoch 700 = 0.13358489295933396\n",
      "loss=0.0022701288\t time_on_epoch 710 = 0.13320212403777987\n",
      "loss=0.0022695717\t time_on_epoch 720 = 0.13316141394898295\n",
      "loss=0.0022691209\t time_on_epoch 730 = 0.13321165298111737\n",
      "loss=0.0022687301\t time_on_epoch 740 = 0.13317778299096972\n",
      "loss=0.0022683783\t time_on_epoch 750 = 0.13321151304990053\n",
      "loss=0.0022680542\t time_on_epoch 760 = 0.13343016302678734\n",
      "loss=0.0022677513\t time_on_epoch 770 = 0.13316466298419982\n",
      "loss=0.0022674654\t time_on_epoch 780 = 0.1331083329860121\n",
      "loss=0.0022671934\t time_on_epoch 790 = 0.1331382729113102\n"
     ]
    },
    {
     "data": {
      "application/vnd.jupyter.widget-view+json": {
       "model_id": "8ce9d62234314713abed975b6e415c7c",
       "version_major": 2,
       "version_minor": 0
      },
      "text/plain": [
       "  0%|          | 0/1024 [00:00<?, ?it/s]"
      ]
     },
     "metadata": {},
     "output_type": "display_data"
    },
    {
     "name": "stdout",
     "output_type": "stream",
     "text": [
      "loss=0.0022491926\t time_on_epoch 800 = 0.1335347139975056\n",
      "loss=0.0022484702\t time_on_epoch 810 = 0.1332423340063542\n",
      "loss=0.0022480085\t time_on_epoch 820 = 0.13339278392959386\n",
      "loss=0.0022476301\t time_on_epoch 830 = 0.13322045397944748\n",
      "loss=0.0022472990\t time_on_epoch 840 = 0.1334228339837864\n",
      "loss=0.0022469987\t time_on_epoch 850 = 0.1333410240476951\n",
      "loss=0.0022467205\t time_on_epoch 860 = 0.1331519439117983\n",
      "loss=0.0022464591\t time_on_epoch 870 = 0.13314482406713068\n",
      "loss=0.0022462113\t time_on_epoch 880 = 0.13316596404183656\n",
      "loss=0.0022459747\t time_on_epoch 890 = 0.13312428398057818\n"
     ]
    },
    {
     "data": {
      "application/vnd.jupyter.widget-view+json": {
       "model_id": "ce864eecd9b3409a88dee68cded4baed",
       "version_major": 2,
       "version_minor": 0
      },
      "text/plain": [
       "  0%|          | 0/1024 [00:00<?, ?it/s]"
      ]
     },
     "metadata": {},
     "output_type": "display_data"
    },
    {
     "name": "stdout",
     "output_type": "stream",
     "text": [
      "loss=0.0022322086\t time_on_epoch 900 = 0.13362795498687774\n",
      "loss=0.0022315961\t time_on_epoch 910 = 0.13307139498647302\n",
      "loss=0.0022312020\t time_on_epoch 920 = 0.1331008040579036\n",
      "loss=0.0022308772\t time_on_epoch 930 = 0.13308523502200842\n",
      "loss=0.0022305914\t time_on_epoch 940 = 0.13314180402085185\n",
      "loss=0.0022303311\t time_on_epoch 950 = 0.13348336494527757\n",
      "loss=0.0022300890\t time_on_epoch 960 = 0.13317679497413337\n",
      "loss=0.0022298607\t time_on_epoch 970 = 0.13314921397250146\n",
      "loss=0.0022296436\t time_on_epoch 980 = 0.13315447408240288\n",
      "loss=0.0022294357\t time_on_epoch 990 = 0.13317280495539308\n"
     ]
    },
    {
     "data": {
      "application/vnd.jupyter.widget-view+json": {
       "model_id": "1bbdcf47f38340dca0aeaeaaf4a09d2f",
       "version_major": 2,
       "version_minor": 0
      },
      "text/plain": [
       "  0%|          | 0/1024 [00:00<?, ?it/s]"
      ]
     },
     "metadata": {},
     "output_type": "display_data"
    },
    {
     "name": "stdout",
     "output_type": "stream",
     "text": [
      "loss=0.0022185609\t time_on_epoch 1000 = 0.13355160504579544\n",
      "loss=0.0022180553\t time_on_epoch 1010 = 0.13311437505763024\n",
      "loss=0.0022177219\t time_on_epoch 1020 = 0.1332146949134767\n",
      "loss=0.0022174432\t time_on_epoch 1030 = 0.13317133497912437\n",
      "loss=0.0022171954\t time_on_epoch 1040 = 0.13313246506731957\n",
      "loss=0.0022169680\t time_on_epoch 1050 = 0.1331910250009969\n",
      "loss=0.0022167552\t time_on_epoch 1060 = 0.13321296509820968\n",
      "loss=0.0022165536\t time_on_epoch 1070 = 0.13320566504262388\n",
      "loss=0.0022163612\t time_on_epoch 1080 = 0.13329338503535837\n",
      "loss=0.0022161764\t time_on_epoch 1090 = 0.1332855150103569\n"
     ]
    },
    {
     "data": {
      "application/vnd.jupyter.widget-view+json": {
       "model_id": "f7e49e5e3e3d45ed8b6b14d4138a10e3",
       "version_major": 2,
       "version_minor": 0
      },
      "text/plain": [
       "  0%|          | 0/1024 [00:00<?, ?it/s]"
      ]
     },
     "metadata": {},
     "output_type": "display_data"
    },
    {
     "name": "stdout",
     "output_type": "stream",
     "text": [
      "loss=0.0022073213\t time_on_epoch 1100 = 0.13361795898526907\n",
      "loss=0.0022068804\t time_on_epoch 1110 = 0.13313622993882746\n",
      "loss=0.0022065871\t time_on_epoch 1120 = 0.13325011101551354\n",
      "loss=0.0022063407\t time_on_epoch 1130 = 0.13311923190485686\n",
      "loss=0.0022061207\t time_on_epoch 1140 = 0.1331096920184791\n",
      "loss=0.0022059181\t time_on_epoch 1150 = 0.1331365619553253\n",
      "loss=0.0022057280\t time_on_epoch 1160 = 0.13330918306019157\n",
      "loss=0.0022055475\t time_on_epoch 1170 = 0.13315208395943046\n",
      "loss=0.0022053748\t time_on_epoch 1180 = 0.13319097505882382\n",
      "loss=0.0022052086\t time_on_epoch 1190 = 0.13313711597584188\n"
     ]
    },
    {
     "data": {
      "application/vnd.jupyter.widget-view+json": {
       "model_id": "20b1f0e0ea014b88b421d983a5e9b718",
       "version_major": 2,
       "version_minor": 0
      },
      "text/plain": [
       "  0%|          | 0/1024 [00:00<?, ?it/s]"
      ]
     },
     "metadata": {},
     "output_type": "display_data"
    },
    {
     "name": "stdout",
     "output_type": "stream",
     "text": [
      "loss=0.0021978460\t time_on_epoch 1200 = 0.13365623797290027\n",
      "loss=0.0021974600\t time_on_epoch 1210 = 0.13316985894925892\n",
      "loss=0.0021972003\t time_on_epoch 1220 = 0.1332180789904669\n",
      "loss=0.0021969806\t time_on_epoch 1230 = 0.13325959001667798\n",
      "loss=0.0021967835\t time_on_epoch 1240 = 0.13318252109456807\n",
      "loss=0.0021966013\t time_on_epoch 1250 = 0.13354516099207103\n",
      "loss=0.0021964298\t time_on_epoch 1260 = 0.1334548619342968\n",
      "loss=0.0021962664\t time_on_epoch 1270 = 0.13369149109348655\n",
      "loss=0.0021961098\t time_on_epoch 1280 = 0.1336745120352134\n",
      "loss=0.0021959589\t time_on_epoch 1290 = 0.13347412296570837\n"
     ]
    },
    {
     "data": {
      "application/vnd.jupyter.widget-view+json": {
       "model_id": "cfa3a4b4e81349029534e857da15edd9",
       "version_major": 2,
       "version_minor": 0
      },
      "text/plain": [
       "  0%|          | 0/1024 [00:00<?, ?it/s]"
      ]
     },
     "metadata": {},
     "output_type": "display_data"
    },
    {
     "name": "stdout",
     "output_type": "stream",
     "text": [
      "loss=0.0021897412\t time_on_epoch 1300 = 0.13356291293166578\n",
      "loss=0.0021893958\t time_on_epoch 1310 = 0.13311242498457432\n",
      "loss=0.0021891611\t time_on_epoch 1320 = 0.1331697249552235\n",
      "loss=0.0021889619\t time_on_epoch 1330 = 0.13321628503035754\n",
      "loss=0.0021887826\t time_on_epoch 1340 = 0.13320754596497864\n",
      "loss=0.0021886164\t time_on_epoch 1350 = 0.13324708596337587\n",
      "loss=0.0021884597\t time_on_epoch 1360 = 0.13321646605618298\n",
      "loss=0.0021883102\t time_on_epoch 1370 = 0.13314562698360533\n",
      "loss=0.0021881667\t time_on_epoch 1380 = 0.133235716028139\n",
      "loss=0.0021880281\t time_on_epoch 1390 = 0.13316802692133933\n"
     ]
    },
    {
     "data": {
      "application/vnd.jupyter.widget-view+json": {
       "model_id": "dcba75e226a449099171dfe1addab644",
       "version_major": 2,
       "version_minor": 0
      },
      "text/plain": [
       "  0%|          | 0/1024 [00:00<?, ?it/s]"
      ]
     },
     "metadata": {},
     "output_type": "display_data"
    },
    {
     "name": "stdout",
     "output_type": "stream",
     "text": [
      "loss=0.0021827188\t time_on_epoch 1400 = 0.13355604303069413\n",
      "loss=0.0021824076\t time_on_epoch 1410 = 0.13313878397457302\n",
      "loss=0.0021821959\t time_on_epoch 1420 = 0.13312306394800544\n",
      "loss=0.0021820151\t time_on_epoch 1430 = 0.13310532295145094\n",
      "loss=0.0021818518\t time_on_epoch 1440 = 0.13315116404555738\n",
      "loss=0.0021817000\t time_on_epoch 1450 = 0.13314099400304258\n",
      "loss=0.0021815564\t time_on_epoch 1460 = 0.13317281391937286\n",
      "loss=0.0021814193\t time_on_epoch 1470 = 0.1331460940418765\n",
      "loss=0.0021812873\t time_on_epoch 1480 = 0.13315802498254925\n",
      "loss=0.0021811597\t time_on_epoch 1490 = 0.1331395850284025\n"
     ]
    },
    {
     "data": {
      "application/vnd.jupyter.widget-view+json": {
       "model_id": "99e27009f73943d9acc3ca14d44ba580",
       "version_major": 2,
       "version_minor": 0
      },
      "text/plain": [
       "  0%|          | 0/1024 [00:00<?, ?it/s]"
      ]
     },
     "metadata": {},
     "output_type": "display_data"
    },
    {
     "name": "stdout",
     "output_type": "stream",
     "text": [
      "loss=0.0021764935\t time_on_epoch 1500 = 0.13353679003193974\n",
      "loss=0.0021762118\t time_on_epoch 1510 = 0.13341454102192074\n",
      "loss=0.0021760177\t time_on_epoch 1520 = 0.13310204003937542\n",
      "loss=0.0021758516\t time_on_epoch 1530 = 0.13317896099761128\n",
      "loss=0.0021757013\t time_on_epoch 1540 = 0.13321532006375492\n",
      "loss=0.0021755615\t time_on_epoch 1550 = 0.13314036093652248\n",
      "loss=0.0021754292\t time_on_epoch 1560 = 0.1333754409570247\n",
      "loss=0.0021753027\t time_on_epoch 1570 = 0.13323663198389113\n",
      "loss=0.0021751808\t time_on_epoch 1580 = 0.1331708210054785\n",
      "loss=0.0021750629\t time_on_epoch 1590 = 0.13324995199218392\n"
     ]
    },
    {
     "data": {
      "application/vnd.jupyter.widget-view+json": {
       "model_id": "d0bf06206e0a4b6c93a030b5a95cb89f",
       "version_major": 2,
       "version_minor": 0
      },
      "text/plain": [
       "  0%|          | 0/1024 [00:00<?, ?it/s]"
      ]
     },
     "metadata": {},
     "output_type": "display_data"
    },
    {
     "name": "stdout",
     "output_type": "stream",
     "text": [
      "loss=0.0021709253\t time_on_epoch 1600 = 0.13372634898405522\n",
      "loss=0.0021706695\t time_on_epoch 1610 = 0.13313379895407706\n",
      "loss=0.0021704931\t time_on_epoch 1620 = 0.13318433007225394\n",
      "loss=0.0021703413\t time_on_epoch 1630 = 0.13313273002859205\n",
      "loss=0.0021702033\t time_on_epoch 1640 = 0.13316781003959477\n",
      "loss=0.0021700745\t time_on_epoch 1650 = 0.13336658000480384\n",
      "loss=0.0021699522\t time_on_epoch 1660 = 0.1332062700530514\n",
      "loss=0.0021698349\t time_on_epoch 1670 = 0.1332719400525093\n",
      "loss=0.0021697219\t time_on_epoch 1680 = 0.13327125005889684\n",
      "loss=0.0021696123\t time_on_epoch 1690 = 0.13312160992063582\n"
     ]
    },
    {
     "data": {
      "application/vnd.jupyter.widget-view+json": {
       "model_id": "c606141fac9b4e26839031645b99716e",
       "version_major": 2,
       "version_minor": 0
      },
      "text/plain": [
       "  0%|          | 0/1024 [00:00<?, ?it/s]"
      ]
     },
     "metadata": {},
     "output_type": "display_data"
    },
    {
     "name": "stdout",
     "output_type": "stream",
     "text": [
      "loss=0.0021659785\t time_on_epoch 1700 = 0.13364483299665153\n",
      "loss=0.0021657455\t time_on_epoch 1710 = 0.13317271298728883\n",
      "loss=0.0021655839\t time_on_epoch 1720 = 0.13316851295530796\n",
      "loss=0.0021654444\t time_on_epoch 1730 = 0.1332132830284536\n",
      "loss=0.0021653173\t time_on_epoch 1740 = 0.13350400293711573\n",
      "loss=0.0021651985\t time_on_epoch 1750 = 0.13319340301677585\n",
      "loss=0.0021650856\t time_on_epoch 1760 = 0.13316793297417462\n",
      "loss=0.0021649772\t time_on_epoch 1770 = 0.1332595330895856\n",
      "loss=0.0021648725\t time_on_epoch 1780 = 0.13312513404525816\n",
      "loss=0.0021647710\t time_on_epoch 1790 = 0.13325134303886443\n"
     ]
    },
    {
     "data": {
      "application/vnd.jupyter.widget-view+json": {
       "model_id": "85e93730a16e4667b2c274ebdc9b3594",
       "version_major": 2,
       "version_minor": 0
      },
      "text/plain": [
       "  0%|          | 0/1024 [00:00<?, ?it/s]"
      ]
     },
     "metadata": {},
     "output_type": "display_data"
    },
    {
     "name": "stdout",
     "output_type": "stream",
     "text": [
      "loss=0.0021615650\t time_on_epoch 1800 = 0.1337555010104552\n",
      "loss=0.0021613521\t time_on_epoch 1810 = 0.1331911919405684\n",
      "loss=0.0021612034\t time_on_epoch 1820 = 0.1331270820228383\n",
      "loss=0.0021610746\t time_on_epoch 1830 = 0.13316589198075235\n",
      "loss=0.0021609571\t time_on_epoch 1840 = 0.13330033200327307\n",
      "loss=0.0021608470\t time_on_epoch 1850 = 0.13335105206351727\n",
      "loss=0.0021607421\t time_on_epoch 1860 = 0.1330703420098871\n",
      "loss=0.0021606413\t time_on_epoch 1870 = 0.13324584299698472\n",
      "loss=0.0021605439\t time_on_epoch 1880 = 0.13321190199349076\n",
      "loss=0.0021604493\t time_on_epoch 1890 = 0.13352833304088563\n"
     ]
    },
    {
     "data": {
      "application/vnd.jupyter.widget-view+json": {
       "model_id": "062b440ba4614934ac1762a442c0d865",
       "version_major": 2,
       "version_minor": 0
      },
      "text/plain": [
       "  0%|          | 0/1024 [00:00<?, ?it/s]"
      ]
     },
     "metadata": {},
     "output_type": "display_data"
    },
    {
     "name": "stdout",
     "output_type": "stream",
     "text": [
      "loss=0.0021575651\t time_on_epoch 1900 = 0.1335948979249224\n",
      "loss=0.0021573686\t time_on_epoch 1910 = 0.1335037989774719\n",
      "loss=0.0021572306\t time_on_epoch 1920 = 0.1331809579860419\n",
      "loss=0.0021571106\t time_on_epoch 1930 = 0.13313971902243793\n",
      "loss=0.0021570007\t time_on_epoch 1940 = 0.13333715789485723\n",
      "loss=0.0021568976\t time_on_epoch 1950 = 0.1332860990660265\n",
      "loss=0.0021567992\t time_on_epoch 1960 = 0.13330545893404633\n",
      "loss=0.0021567046\t time_on_epoch 1970 = 0.13318547897506505\n",
      "loss=0.0021566131\t time_on_epoch 1980 = 0.13314512895885855\n",
      "loss=0.0021565241\t time_on_epoch 1990 = 0.13316450896672904\n"
     ]
    },
    {
     "data": {
      "application/vnd.jupyter.widget-view+json": {
       "model_id": "5d6b07f81cd542b6bb4abed49e9b4413",
       "version_major": 2,
       "version_minor": 0
      },
      "text/plain": [
       "  0%|          | 0/1024 [00:00<?, ?it/s]"
      ]
     },
     "metadata": {},
     "output_type": "display_data"
    },
    {
     "name": "stdout",
     "output_type": "stream",
     "text": [
      "loss=0.0021539355\t time_on_epoch 2000 = 0.13354079297278076\n",
      "loss=0.0021537524\t time_on_epoch 2010 = 0.13318546302616596\n",
      "loss=0.0021536233\t time_on_epoch 2020 = 0.13371747301425785\n",
      "loss=0.0021535109\t time_on_epoch 2030 = 0.13312378292903304\n",
      "loss=0.0021534079\t time_on_epoch 2040 = 0.13319656299427152\n",
      "loss=0.0021533111\t time_on_epoch 2050 = 0.13315940299071372\n",
      "loss=0.0021532188\t time_on_epoch 2060 = 0.13317721302155405\n",
      "loss=0.0021531298\t time_on_epoch 2070 = 0.13319819292519242\n",
      "loss=0.0021530437\t time_on_epoch 2080 = 0.13323167408816516\n",
      "loss=0.0021529600\t time_on_epoch 2090 = 0.13312618399504572\n"
     ]
    },
    {
     "data": {
      "application/vnd.jupyter.widget-view+json": {
       "model_id": "5a501f9bf24e462b8744ada5cd719a51",
       "version_major": 2,
       "version_minor": 0
      },
      "text/plain": [
       "  0%|          | 0/1024 [00:00<?, ?it/s]"
      ]
     },
     "metadata": {},
     "output_type": "display_data"
    },
    {
     "name": "stdout",
     "output_type": "stream",
     "text": [
      "loss=0.0021505469\t time_on_epoch 2100 = 0.13366506597958505\n",
      "loss=0.0021503773\t time_on_epoch 2110 = 0.13322416704613715\n",
      "loss=0.0021502564\t time_on_epoch 2120 = 0.13312692707404494\n",
      "loss=0.0021501509\t time_on_epoch 2130 = 0.13316607708111405\n",
      "loss=0.0021500539\t time_on_epoch 2140 = 0.1331694460241124\n",
      "loss=0.0021499626\t time_on_epoch 2150 = 0.13314664701465517\n",
      "loss=0.0021498754\t time_on_epoch 2160 = 0.13316499697975814\n",
      "loss=0.0021497913\t time_on_epoch 2170 = 0.1332580370362848\n",
      "loss=0.0021497098\t time_on_epoch 2180 = 0.13312629703432322\n",
      "loss=0.0021496306\t time_on_epoch 2190 = 0.13338325603399426\n"
     ]
    },
    {
     "data": {
      "application/vnd.jupyter.widget-view+json": {
       "model_id": "97afd2aaa0c747db87d78c2834d1aaa7",
       "version_major": 2,
       "version_minor": 0
      },
      "text/plain": [
       "  0%|          | 0/1024 [00:00<?, ?it/s]"
      ]
     },
     "metadata": {},
     "output_type": "display_data"
    },
    {
     "name": "stdout",
     "output_type": "stream",
     "text": [
      "loss=0.0021474483\t time_on_epoch 2200 = 0.1337250379147008\n"
     ]
    }
   ],
   "source": [
    "quantized_layer = QuantizedWeight(\n",
    "    reference_weight=reference_weight, num_codebooks=num_codebooks,\n",
    "    nbits_per_codebook=nbits_per_codebook, scale_nbits=scale_nbits,\n",
    "    out_group_size=out_group_size, in_group_size=in_group_size,\n",
    "    max_iter=100,   # faster init, not tested\n",
    "    verbose=True\n",
    ")\n",
    "opt = torch.optim.Adam(quantized_layer.parameters(), lr=1e-4, betas=(0.0, 0.95), amsgrad=True)\n",
    "\n",
    "for epoch in range(10_000):\n",
    "    start = time.perf_counter()\n",
    "    reconstructed_weight = quantized_weight()\n",
    "    delta_weight = (reconstructed_weight - reference_weight).double()\n",
    "    loss = (delta_weight @ XTX.double()).flatten() @ delta_weight.flatten() / len(delta_weight)\n",
    "    opt.zero_grad()\n",
    "    loss.backward()\n",
    "    opt.step()\n",
    "    \n",
    "    run.log({'loss':loss.item()}, step=epoch)\n",
    "    \n",
    "    if epoch % print_frequency == 0:\n",
    "        print(f\"loss={loss.item():.10f}\\t\",\n",
    "              f\"time_on_epoch {epoch} = {time.perf_counter() - start}\")\n",
    "    if (epoch + 1) % beam_search_epochs == 0:\n",
    "        quantized_layer.requantize_(\n",
    "            XTX, reference_weight,\n",
    "            beam_size=beam_size,\n",
    "            sparsity_regularizer=sparsity_regularizer,  # tip: use const_hparam * quantized_layer.codes.numel()\n",
    "            dim_rng=random.Random(), verbose=True)\n",
    "\n",
    "        if sparsity_regularizer != 0:\n",
    "            sparsity_rate = ((quantized_layer.codes == 0).sum() / quantized_layer.codes.numel()).item()\n",
    "            print(f\"Sparsity rate {sparsity_rate:.5f}\")\n",
    "            run.log({'sparsity rate': sparsity_rate}, step=epoch)\n",
    "            mean_code_nbits = sum(get_mean_nbits_by_codebook(quantized_layer.codes)) / num_codebooks\n",
    "            print(f\"mean_code_nbits {mean_code_nbits:.5f}\")\n",
    "            run.log({'Mean codebook length nbits': mean_code_nbits}, step=epoch)\n",
    "            if in_group_size > 1 and out_group_size > 1:\n",
    "                curr_avg_bits  = calc_avg_bits(num_codebooks, 1, mean_code_nbits,\n",
    "                                     nbits_per_codebook, in_features, out_features, scale_nbits)\n",
    "                run.log({\"Avg_bits\": curr_avg_bits}, step=epoch)"
   ]
  },
  {
   "cell_type": "code",
   "execution_count": null,
   "id": "17517b44",
   "metadata": {},
   "outputs": [],
   "source": []
  }
 ],
 "metadata": {
  "kernelspec": {
   "display_name": "Python 3 (ipykernel)",
   "language": "python",
   "name": "python3"
  },
  "language_info": {
   "codemirror_mode": {
    "name": "ipython",
    "version": 3
   },
   "file_extension": ".py",
   "mimetype": "text/x-python",
   "name": "python",
   "nbconvert_exporter": "python",
   "pygments_lexer": "ipython3",
   "version": "3.9.18"
  }
 },
 "nbformat": 4,
 "nbformat_minor": 5
}
