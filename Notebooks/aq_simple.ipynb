{
 "cells": [
  {
   "cell_type": "code",
   "execution_count": 2,
   "id": "43871e67",
   "metadata": {},
   "outputs": [
    {
     "name": "stdout",
     "output_type": "stream",
     "text": [
      "env: CUDA_VISIBLE_DEVICES=0\n",
      "env: TRANSFORMERS_CACHE=/mnt/LLM/hub\n",
      "env: OMP_NUM_THREADS=16\n",
      "Estimated bits / param 2.0390625\n"
     ]
    }
   ],
   "source": [
    "%env CUDA_VISIBLE_DEVICES=0\n",
    "%env TRANSFORMERS_CACHE=/mnt/LLM/hub\n",
    "%env OMP_NUM_THREADS=16\n",
    "\n",
    "import os\n",
    "import sys\n",
    "sys.path.insert(0, '..')\n",
    "\n",
    "import time\n",
    "import random\n",
    "from tqdm.auto import trange\n",
    "import ipynbname  # pip install ipynbname\n",
    "\n",
    "import torch\n",
    "import torch.nn as nn\n",
    "import torch.nn.functional as F\n",
    "import transformers\n",
    "\n",
    "from src.aq import QuantizedWeight, _reconstruct_weight  # see adjacent file (aq.py)\n",
    "from src.utils import calc_avg_bits, get_mean_nbits_by_codebook  # see adjacent file (aq.py)\n",
    "\n",
    "torch.set_num_threads(16)\n",
    "torch.backends.cudnn.allow_tf32 = False\n",
    "torch.backends.cuda.matmul.allow_tf32 = False\n",
    "device = torch.device('cuda' if torch.cuda.is_available() else 'cpu')\n",
    "\n",
    "input_loading_dir = '/extra_disk_1/vahe1994/BRRR/layer10.self_attn.q_proj.input_activation.pt'\n",
    "num_codebooks = 1\n",
    "nbits_per_codebook = 14\n",
    "out_group_size = 1\n",
    "in_group_size = 8\n",
    "batch_size = 16384\n",
    "beam_size = 1\n",
    "beam_search_epochs = 100\n",
    "sparsity_regularizer = 0\n",
    "print_frequency = 10\n",
    "scale_nbits = 2    # 0 means no scales, 16 means no compression;\n",
    "\n",
    "\n",
    "#for each group we store num_codebooks * nbits_per_codebook - bits \n",
    "# for W matrix  we store out_features*(in_features // group_size) * num_codebooks * nbits_per_codebook - bits \n",
    "# 1 codebook store codebook_size*group_size*16 - bit \n",
    "# all codebooks store num_codebooks* codebook_size*group_size*16 -bits\n",
    "in_features, out_features  = 8192, 8192\n",
    "estimated_bits_per_param = calc_avg_bits(\n",
    "    num_codebooks, out_group_size, in_group_size, nbits_per_codebook, in_features, out_features, scale_nbits)\n",
    "print(\"Estimated bits / param\", estimated_bits_per_param)"
   ]
  },
  {
   "cell_type": "code",
   "execution_count": 3,
   "id": "d7e6156a",
   "metadata": {},
   "outputs": [
    {
     "name": "stderr",
     "output_type": "stream",
     "text": [
      "\u001b[34m\u001b[1mwandb\u001b[0m: Currently logged in as: \u001b[33mjustheuristic\u001b[0m (\u001b[33mrock-and-roll\u001b[0m). Use \u001b[1m`wandb login --relogin`\u001b[0m to force relogin\n"
     ]
    },
    {
     "data": {
      "text/html": [
       "wandb version 0.16.1 is available!  To upgrade, please run:\n",
       " $ pip install wandb --upgrade"
      ],
      "text/plain": [
       "<IPython.core.display.HTML object>"
      ]
     },
     "metadata": {},
     "output_type": "display_data"
    },
    {
     "data": {
      "text/html": [
       "Tracking run with wandb version 0.16.0"
      ],
      "text/plain": [
       "<IPython.core.display.HTML object>"
      ]
     },
     "metadata": {},
     "output_type": "display_data"
    },
    {
     "data": {
      "text/html": [
       "Run data is saved locally in <code>/home/jheuristic/GPTAQ_scales/Notebooks/wandb/run-20231206_043452-7yj5she6</code>"
      ],
      "text/plain": [
       "<IPython.core.display.HTML object>"
      ]
     },
     "metadata": {},
     "output_type": "display_data"
    },
    {
     "data": {
      "text/html": [
       "Syncing run <strong><a href='https://wandb.ai/rock-and-roll/AddQuantization/runs/7yj5she6' target=\"_blank\">aq_simple_AQ_num_codebooks=1_out_group_size=1_in_group_size=8_nbits_per_codebook=14_beam_search_epochs=100</a></strong> to <a href='https://wandb.ai/rock-and-roll/AddQuantization' target=\"_blank\">Weights & Biases</a> (<a href='https://wandb.me/run' target=\"_blank\">docs</a>)<br/>"
      ],
      "text/plain": [
       "<IPython.core.display.HTML object>"
      ]
     },
     "metadata": {},
     "output_type": "display_data"
    },
    {
     "data": {
      "text/html": [
       " View project at <a href='https://wandb.ai/rock-and-roll/AddQuantization' target=\"_blank\">https://wandb.ai/rock-and-roll/AddQuantization</a>"
      ],
      "text/plain": [
       "<IPython.core.display.HTML object>"
      ]
     },
     "metadata": {},
     "output_type": "display_data"
    },
    {
     "data": {
      "text/html": [
       " View run at <a href='https://wandb.ai/rock-and-roll/AddQuantization/runs/7yj5she6' target=\"_blank\">https://wandb.ai/rock-and-roll/AddQuantization/runs/7yj5she6</a>"
      ],
      "text/plain": [
       "<IPython.core.display.HTML object>"
      ]
     },
     "metadata": {},
     "output_type": "display_data"
    },
    {
     "name": "stderr",
     "output_type": "stream",
     "text": [
      "\u001b[34m\u001b[1mwandb\u001b[0m: \u001b[33mWARNING\u001b[0m No relevant files were detected in the specified directory. No code will be logged to your run.\n"
     ]
    }
   ],
   "source": [
    "import wandb\n",
    "\n",
    "os.environ[\"WANDB_NOTEBOOK_NAME\"] = os.path.join(os.getcwd(), ipynbname.name() + \".ipynb\")\n",
    "\n",
    "# start a new wandb run to track this script\n",
    "run = wandb.init(\n",
    "    # set the wandb project where this run will be logged\n",
    "    dir=os.getcwd(),\n",
    "    project=\"AddQuantization\",\n",
    "    entity = \"rock-and-roll\",\n",
    "    save_code=True,\n",
    "    name = f\"{ipynbname.name()}_AQ_{num_codebooks=}_{out_group_size=}_{in_group_size=}_{nbits_per_codebook=}_{beam_search_epochs=}\",\n",
    "    settings=wandb.Settings(code_dir=\".\"),\n",
    "    # track hyperparameters and run metadata\n",
    "    config={\n",
    "    \"num_codebooks\" : num_codebooks,\n",
    "    \"out_group_size\": out_group_size,\n",
    "    \"in_group_size\": in_group_size,\n",
    "    \"group_size\" : out_group_size * in_group_size,\n",
    "    \"batch_size\" : batch_size,\n",
    "    \"beam_size\" : beam_size,\n",
    "    \"nbits_per_codebook\" : nbits_per_codebook,\n",
    "    \"Avg_bits\": estimated_bits_per_param,\n",
    "    \"beam_search_epochs\": beam_search_epochs,\n",
    "    \"sparsity_regularizer\": sparsity_regularizer,\n",
    "    \"scale_nvits\": scale_nbits,\n",
    "    }\n",
    ")\n",
    "run.log({\"Avg_bits\": estimated_bits_per_param})"
   ]
  },
  {
   "cell_type": "code",
   "execution_count": 4,
   "id": "dbf7e1f4",
   "metadata": {},
   "outputs": [
    {
     "data": {
      "application/vnd.jupyter.widget-view+json": {
       "model_id": "cdd87829ab1f4df5b36498d7e6454f8f",
       "version_major": 2,
       "version_minor": 0
      },
      "text/plain": [
       "Loading checkpoint shards:   0%|          | 0/15 [00:00<?, ?it/s]"
      ]
     },
     "metadata": {},
     "output_type": "display_data"
    }
   ],
   "source": [
    "model = transformers.AutoModelForCausalLM.from_pretrained(\n",
    "    \"meta-llama/Llama-2-70b-hf\", torch_dtype='auto', low_cpu_mem_usage=True)\n",
    "\n",
    "X = torch.load(input_loading_dir, map_location='cpu').float().flatten(0, -2)\n",
    "reference_weight = model.model.layers[10].self_attn.q_proj.weight.detach().to(device).float()\n",
    "\n",
    "XTX = torch.zeros(X.shape[-1], X.shape[-1], device=device, dtype=torch.float64)\n",
    "for i in range(0, len(X), batch_size):\n",
    "    x_batch = X[i: i + batch_size].cuda().double()\n",
    "    XTX.addmm_(x_batch.T, x_batch, alpha=1/len(X))\n",
    "    del x_batch\n",
    "XTX = XTX.float()\n",
    "del X"
   ]
  },
  {
   "cell_type": "code",
   "execution_count": null,
   "id": "7e8656f1",
   "metadata": {},
   "outputs": [
    {
     "name": "stderr",
     "output_type": "stream",
     "text": [
      "/home/jheuristic/GPTAQ_scales/Notebooks/../src/kmeans_1d.py:160: UserWarning: torch.searchsorted(): boundary tensor is non-contiguous, this will lower the performance due to extra data copy when converting non-contiguous tensor to contiguous, please use contiguous boundary tensor if possible. This message will only appear once per program. (Triggered internally at /opt/conda/conda-bld/pytorch_1695392022560/work/aten/src/ATen/native/BucketizationUtils.h:38.)\n",
      "  groupwise_cluster_indices = torch.searchsorted(border_indices[:, 1:], groupwise_ranks_1based, side='left')\n"
     ]
    },
    {
     "data": {
      "application/vnd.jupyter.widget-view+json": {
       "model_id": "d1a6fc37dba14b3a99e1cb180b679acb",
       "version_major": 2,
       "version_minor": 0
      },
      "text/plain": [
       "initializing with kmeans:   0%|          | 0/1 [00:00<?, ?it/s]"
      ]
     },
     "metadata": {},
     "output_type": "display_data"
    },
    {
     "name": "stderr",
     "output_type": "stream",
     "text": [
      "/home/jheuristic/GPTAQ_scales/Notebooks/../src/aq.py:480: UserWarning: index_reduce() is in beta and the API may change at any time. (Triggered internally at /opt/conda/conda-bld/pytorch_1695392022560/work/aten/src/ATen/native/cuda/Indexing.cu:1193.)\n",
      "  codebook_i, codes_i, reconstructed_weight_i = fit_kmeans(weight_residue, k=codebook_size, **kwargs)\n"
     ]
    },
    {
     "name": "stdout",
     "output_type": "stream",
     "text": [
      "loss=0.0258857615\t time_on_epoch 0 = 1.794874879065901\n",
      "loss=0.0214160136\t time_on_epoch 10 = 0.13309287303127348\n",
      "loss=0.0179490415\t time_on_epoch 20 = 0.13319369300734252\n",
      "loss=0.0152740230\t time_on_epoch 30 = 0.13324946200009435\n",
      "loss=0.0132520099\t time_on_epoch 40 = 0.1333391530206427\n",
      "loss=0.0117486446\t time_on_epoch 50 = 0.13315503299236298\n",
      "loss=0.0106320357\t time_on_epoch 60 = 0.13317235291469842\n",
      "loss=0.0097964607\t time_on_epoch 70 = 0.13332686305511743\n",
      "loss=0.0091640784\t time_on_epoch 80 = 0.13326736295130104\n",
      "loss=0.0086792293\t time_on_epoch 90 = 0.13343094300944358\n"
     ]
    },
    {
     "data": {
      "application/vnd.jupyter.widget-view+json": {
       "model_id": "e022740237f847ca8bba9af437b31900",
       "version_major": 2,
       "version_minor": 0
      },
      "text/plain": [
       "  0%|          | 0/1024 [00:00<?, ?it/s]"
      ]
     },
     "metadata": {},
     "output_type": "display_data"
    }
   ],
   "source": [
    "quantized_layer = QuantizedWeight(\n",
    "    reference_weight=reference_weight, num_codebooks=num_codebooks,\n",
    "    nbits_per_codebook=nbits_per_codebook,\n",
    "    out_group_size=out_group_size, in_group_size=in_group_size,\n",
    "    scale_nbits=scale_nbits, max_iter=100,   # faster init, not tested\n",
    "    verbose=True\n",
    ")\n",
    "opt = torch.optim.Adam(quantized_layer.parameters(), lr=1e-4, betas=(0.0, 0.95), amsgrad=True)\n",
    "\n",
    "for epoch in range(10_000):\n",
    "    start = time.perf_counter()\n",
    "    quantized_scales = quantized_layer.get_scales()\n",
    "    quantized_zeros = quantized_layer.get_zeros()\n",
    "\n",
    "    reconstructed_weight = _reconstruct_weight(\n",
    "        quantized_layer.codes, quantized_layer.codebooks, quantized_scales, quantized_zeros)\n",
    "    delta_weight = (reconstructed_weight - reference_weight).double()\n",
    "    loss = (delta_weight @ XTX.double()).flatten() @ delta_weight.flatten() / len(delta_weight)\n",
    "    opt.zero_grad()\n",
    "    loss.backward()\n",
    "    opt.step()\n",
    "    \n",
    "    run.log({'loss':loss.item()}, step=epoch)\n",
    "    \n",
    "    if epoch % print_frequency == 0:\n",
    "        print(f\"loss={loss.item():.10f}\\t\",\n",
    "              f\"time_on_epoch {epoch} = {time.perf_counter() - start}\")\n",
    "    if (epoch + 1) % beam_search_epochs == 0:\n",
    "        quantized_layer.requantize_(\n",
    "            XTX, reference_weight,\n",
    "            beam_size=beam_size,\n",
    "            sparsity_regularizer=sparsity_regularizer,  # tip: use const_hparam * quantized_layer.codes.numel()\n",
    "            dim_rng=random.Random(), verbose=True)\n",
    "\n",
    "        if sparsity_regularizer != 0:\n",
    "            sparsity_rate = ((quantized_layer.codes == 0).sum() / quantized_layer.codes.numel()).item()\n",
    "            print(f\"Sparsity rate {sparsity_rate:.5f}\")\n",
    "            run.log({'sparsity rate': sparsity_rate}, step=epoch)\n",
    "            mean_code_nbits = sum(get_mean_nbits_by_codebook(quantized_layer.codes)) / num_codebooks\n",
    "            print(f\"mean_code_nbits {mean_code_nbits:.5f}\")\n",
    "            run.log({'Mean codebook length nbits': mean_code_nbits}, step=epoch)\n",
    "            if in_group_size > 1 and out_group_size > 1:\n",
    "                curr_avg_bits  = calc_avg_bits(num_codebooks, 1, mean_code_nbits,\n",
    "                                     nbits_per_codebook, in_features, out_features, scale_nbits)\n",
    "                run.log({\"Avg_bits\": curr_avg_bits}, step=epoch)"
   ]
  },
  {
   "cell_type": "code",
   "execution_count": null,
   "id": "17517b44",
   "metadata": {},
   "outputs": [],
   "source": []
  }
 ],
 "metadata": {
  "kernelspec": {
   "display_name": "Python 3 (ipykernel)",
   "language": "python",
   "name": "python3"
  },
  "language_info": {
   "codemirror_mode": {
    "name": "ipython",
    "version": 3
   },
   "file_extension": ".py",
   "mimetype": "text/x-python",
   "name": "python",
   "nbconvert_exporter": "python",
   "pygments_lexer": "ipython3",
   "version": "3.9.18"
  }
 },
 "nbformat": 4,
 "nbformat_minor": 5
}
