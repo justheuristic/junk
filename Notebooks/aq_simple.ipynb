{
 "cells": [
  {
   "cell_type": "code",
   "execution_count": 1,
   "id": "43871e67",
   "metadata": {},
   "outputs": [
    {
     "name": "stdout",
     "output_type": "stream",
     "text": [
      "env: CUDA_VISIBLE_DEVICES=0\n",
      "env: TRANSFORMERS_CACHE=/mnt/LLM/hub\n",
      "env: OMP_NUM_THREADS=16\n",
      "Estimated bits / param 2.140623092651367\n"
     ]
    }
   ],
   "source": [
    "%env CUDA_VISIBLE_DEVICES=0\n",
    "%env TRANSFORMERS_CACHE=/mnt/LLM/hub\n",
    "%env OMP_NUM_THREADS=16\n",
    "\n",
    "import os\n",
    "import sys\n",
    "import time\n",
    "from tqdm.auto import trange\n",
    "import ipynbname  # pip install ipynbname\n",
    "\n",
    "import torch\n",
    "import torch.nn as nn\n",
    "import torch.nn.functional as F\n",
    "import transformers\n",
    "\n",
    "from src.aq import QuantizedWeight, _reconstruct_weight  # see adjacent file (aq.py)\n",
    "from src.utils import  calc_avg_bits, get_mean_nbits_by_codebook  # see adjacent file (aq.py)\n",
    "\n",
    "torch.set_num_threads(16)\n",
    "torch.backends.cudnn.allow_tf32 = False\n",
    "torch.backends.cuda.matmul.allow_tf32 = False\n",
    "device = torch.device('cuda' if torch.cuda.is_available() else 'cpu')\n",
    "\n",
    "input_loading_dir = '/extra_disk_1/vahe1994/BRRR/layer10.self_attn.q_proj.input_activation.pt'\n",
    "num_codebooks = 7\n",
    "nbits_per_codebook = 12\n",
    "out_group_size = 1\n",
    "in_group_size = 32\n",
    "batch_size = 16384\n",
    "beam_size = 1\n",
    "big_beam_size = 8\n",
    "beam_search_epochs = 100\n",
    "big_beam_search_epochs = 1000\n",
    "sparsity_regularizer = 0\n",
    "print_frequency = 10\n",
    "alpha = 1.0\n",
    "kmeans_init = True\n",
    "naming = \"\"\n",
    "\n",
    "#for each group we store num_codebooks * nbits_per_codebook - bits \n",
    "# for W matrix  we store out_features*(in_features // group_size) * num_codebooks * nbits_per_codebook - bits \n",
    "# 1 codebook store codebook_size*group_size*16 - bit \n",
    "# all codebooks store num_codebooks* codebook_size*group_size*16 -bits\n",
    "in_features, out_features  = 8192, 8192\n",
    "\n",
    "estimated_bits_per_param = calc_avg_bits(num_codebooks, out_group_size, in_group_size,\n",
    "                                         nbits_per_codebook, in_features,out_features)\n",
    "print(\"Estimated bits / param\", estimated_bits_per_param)"
   ]
  },
  {
   "cell_type": "code",
   "execution_count": 2,
   "id": "d7e6156a",
   "metadata": {},
   "outputs": [
    {
     "name": "stderr",
     "output_type": "stream",
     "text": [
      "\u001b[34m\u001b[1mwandb\u001b[0m: Currently logged in as: \u001b[33mjustheuristic\u001b[0m (\u001b[33mrock-and-roll\u001b[0m). Use \u001b[1m`wandb login --relogin`\u001b[0m to force relogin\n"
     ]
    },
    {
     "data": {
      "text/html": [
       "Tracking run with wandb version 0.16.0"
      ],
      "text/plain": [
       "<IPython.core.display.HTML object>"
      ]
     },
     "metadata": {},
     "output_type": "display_data"
    },
    {
     "data": {
      "text/html": [
       "Run data is saved locally in <code>/home/jheuristic/wandb/run-20231127_092220-yhx0zrtu</code>"
      ],
      "text/plain": [
       "<IPython.core.display.HTML object>"
      ]
     },
     "metadata": {},
     "output_type": "display_data"
    },
    {
     "data": {
      "text/html": [
       "Syncing run <strong><a href='https://wandb.ai/rock-and-roll/AddQuantization-debug/runs/yhx0zrtu' target=\"_blank\">LargeCodebook_AQ_num_codebooks=24_out_group_size=3_in_group_size=32_nbits_per_codebook=8_beam_search_epochs=100_big_beam_search_epochs=1000</a></strong> to <a href='https://wandb.ai/rock-and-roll/AddQuantization-debug' target=\"_blank\">Weights & Biases</a> (<a href='https://wandb.me/run' target=\"_blank\">docs</a>)<br/>"
      ],
      "text/plain": [
       "<IPython.core.display.HTML object>"
      ]
     },
     "metadata": {},
     "output_type": "display_data"
    },
    {
     "data": {
      "text/html": [
       " View project at <a href='https://wandb.ai/rock-and-roll/AddQuantization-debug' target=\"_blank\">https://wandb.ai/rock-and-roll/AddQuantization-debug</a>"
      ],
      "text/plain": [
       "<IPython.core.display.HTML object>"
      ]
     },
     "metadata": {},
     "output_type": "display_data"
    },
    {
     "data": {
      "text/html": [
       " View run at <a href='https://wandb.ai/rock-and-roll/AddQuantization-debug/runs/yhx0zrtu' target=\"_blank\">https://wandb.ai/rock-and-roll/AddQuantization-debug/runs/yhx0zrtu</a>"
      ],
      "text/plain": [
       "<IPython.core.display.HTML object>"
      ]
     },
     "metadata": {},
     "output_type": "display_data"
    }
   ],
   "source": [
    "import wandb\n",
    "\n",
    "os.environ[\"WANDB_NOTEBOOK_NAME\"] = os.path.join(os.getcwd(), ipynbname.name() + \".ipynb\")\n",
    "\n",
    "naming += (\"KMeans\" if kmeans_init else \"\")+(\"Sparse\" if sparsity_regularizer!=0 else \"\")\n",
    "\n",
    "# start a new wandb run to track this script\n",
    "run = wandb.init(\n",
    "    # set the wandb project where this run will be logged\n",
    "    dir =os.getcwd(),\n",
    "    project=\"AddQuantization-debug\",\n",
    "    entity = \"rock-and-roll\",\n",
    "    save_code=True,\n",
    "    name = f\"{naming}_AQ_{num_codebooks=}_{out_group_size=}_{in_group_size=}_{nbits_per_codebook=}_{beam_search_epochs=}_{big_beam_search_epochs=}\",\n",
    "    settings=wandb.Settings(code_dir=\".\"),\n",
    "    # track hyperparameters and run metadata\n",
    "    config={\n",
    "    \"num_codebooks\" : num_codebooks,\n",
    "    \"out_group_size\": out_group_size,\n",
    "    \"in_group_size\": in_group_size,\n",
    "    \"group_size\" : out_group_size * in_group_size,\n",
    "    \"batch_size\" : batch_size,\n",
    "    \"beam_size\" : beam_size,\n",
    "    \"big_beam_size\" : big_beam_size,\n",
    "    \"nbits_per_codebook\" : nbits_per_codebook,\n",
    "    \"Avg_bits\": estimated_bits_per_param,\n",
    "    \"beam_search_epochs\": beam_search_epochs,\n",
    "    \"big_beam_search_epochs\": big_beam_search_epochs,\n",
    "    \"sparsity_regularizer\": sparsity_regularizer,\n",
    "    \"alpha\":alpha,\n",
    "    \"kmeans_init\":kmeans_init\n",
    "    }\n",
    ")\n",
    "run.log({\"Avg_bits\": estimated_bits_per_param})"
   ]
  },
  {
   "cell_type": "code",
   "execution_count": null,
   "id": "dbf7e1f4",
   "metadata": {},
   "outputs": [],
   "source": [
    "model = transformers.AutoModelForCausalLM.from_pretrained(\"meta-llama/Llama-2-70b-hf\",\n",
    "                                                          torch_dtype='auto', low_cpu_mem_usage=True)\n",
    "\n",
    "X = torch.load(input_loading_dir,\n",
    "               map_location='cpu').float().flatten(0, -2)\n",
    "\n",
    "reference_weight = model.model.layers[10].self_attn.q_proj.weight.detach().cuda().float()\n",
    "\n",
    "XTX = torch.zeros(X.shape[-1], X.shape[-1], device=device, dtype=torch.float64)\n",
    "for i in range(0, len(X), batch_size):\n",
    "    x_batch = X[i: i + batch_size].cuda().double()\n",
    "    XTX.addmm_(x_batch.T, x_batch, alpha=1/len(X))\n",
    "    del x_batch\n",
    "XTX = XTX.float()\n",
    "del X"
   ]
  },
  {
   "cell_type": "code",
   "execution_count": null,
   "id": "c310b492",
   "metadata": {
    "scrolled": true
   },
   "outputs": [],
   "source": [
    "quantized_layer = QuantizedWeight(\n",
    "    weight_shape=reference_weight.shape, num_codebooks=num_codebooks,\n",
    "    nbits_per_codebook=nbits_per_codebook,\n",
    "    out_group_size=out_group_size, in_group_size=in_group_size, \n",
    "    device=device,\n",
    "    init_kmeans=kmeans_init, reference_weight=reference_weight, alpha=1.0, verbose=True\n",
    ")\n",
    "\n",
    "opt = torch.optim.Adam(quantized_layer.parameters(), lr=1e-5, betas=(0.9, 0.95))\n",
    "\n",
    "for epoch in range(40_000):\n",
    "    epoch_losses = []\n",
    "    start = time.perf_counter()\n",
    "    \n",
    "    reconstructed_weight = _reconstruct_weight(quantized_layer.codes, quantized_layer.codebooks)\n",
    "    delta_weight = (reconstructed_weight - reference_weight).double()\n",
    "    loss = (delta_weight @ XTX.double()).flatten() @ delta_weight.flatten() / len(delta_weight)\n",
    "    opt.zero_grad()\n",
    "    loss.backward()\n",
    "    opt.step()\n",
    "    \n",
    "    run.log({'loss':loss.item()}, step=epoch)\n",
    "    \n",
    "    if epoch % print_frequency == 0:\n",
    "        print(f\"loss={loss.item():.10f}\\t\",\n",
    "              f\"time_on_epoch {epoch} = {time.perf_counter() - start}\")\n",
    "    if (epoch + 1) % beam_search_epochs == 0:\n",
    "        if (epoch + 1) % big_beam_search_epochs == 0:\n",
    "            print(\"BIG beam search\")\n",
    "        quantized_layer.requantize_(\n",
    "            XTX, reference_weight,\n",
    "            beam_size=beam_size if (epoch + 1) % 1000 != 0 else big_beam_size,\n",
    "            sparsity_regularizer=sparsity_regularizer,  # tip: use const_hparam * quantized_layer.codes.numel()\n",
    "            verbose=True)\n",
    "        if sparsity_regularizer != 0:\n",
    "            sparsity_rate = ((quantized_layer.codes == 0).sum() / quantized_layer.codes.numel()).item()\n",
    "            print(f\"Sparsity rate {sparsity_rate:.5f}\")\n",
    "            run.log({'sparsity rate': sparsity_rate}, step=epoch)\n",
    "            if (epoch + 1) % big_beam_search_epochs == 0:\n",
    "                mean_code_nbits = sum(get_mean_nbits_by_codebook(quantized_layer.codes)) / num_codebooks\n",
    "                print(f\"mean_code_nbits {mean_code_nbits:.5f}\")\n",
    "                run.log({'Mean codebook ldngth nbits': mean_code_nbits}, step=epoch)\n",
    "                if in_group_size>1 and out_group_size>1:\n",
    "                    curr_avg_bits  = calc_avg_bits(num_codebooks, 1, mean_code_nbits,\n",
    "                                         nbits_per_codebook, in_features,out_features)\n",
    "                    run.log({\"Avg_bits\": curr_avg_bits}, step=epoch)"
   ]
  }
 ],
 "metadata": {
  "kernelspec": {
   "display_name": "Python 3 (ipykernel)",
   "language": "python",
   "name": "python3"
  },
  "language_info": {
   "codemirror_mode": {
    "name": "ipython",
    "version": 3
   },
   "file_extension": ".py",
   "mimetype": "text/x-python",
   "name": "python",
   "nbconvert_exporter": "python",
   "pygments_lexer": "ipython3",
   "version": "3.9.18"
  }
 },
 "nbformat": 4,
 "nbformat_minor": 5
}
